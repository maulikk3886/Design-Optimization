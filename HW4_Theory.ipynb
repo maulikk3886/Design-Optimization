{
  "cells": [
    {
      "cell_type": "markdown",
      "metadata": {
        "id": "view-in-github",
        "colab_type": "text"
      },
      "source": [
        "<a href=\"https://colab.research.google.com/github/maulikk3886/Design-Optimization/blob/main/HW4_Theory.ipynb\" target=\"_parent\"><img src=\"https://colab.research.google.com/assets/colab-badge.svg\" alt=\"Open In Colab\"/></a>"
      ]
    },
    {
      "cell_type": "markdown",
      "id": "e4d16eb9",
      "metadata": {
        "id": "e4d16eb9"
      },
      "source": [
        "![1.jpg](attachment:1.jpg)"
      ]
    },
    {
      "cell_type": "markdown",
      "id": "78166a86",
      "metadata": {
        "id": "78166a86"
      },
      "source": [
        "![2.jpg](attachment:2.jpg)"
      ]
    },
    {
      "cell_type": "markdown",
      "id": "9eb1f0d4",
      "metadata": {
        "id": "9eb1f0d4"
      },
      "source": [
        "![3.jpg](attachment:3.jpg)"
      ]
    },
    {
      "cell_type": "markdown",
      "id": "a35de095",
      "metadata": {
        "id": "a35de095"
      },
      "source": [
        "![4.jpg](attachment:4.jpg)"
      ]
    },
    {
      "cell_type": "markdown",
      "id": "4e27b776",
      "metadata": {
        "id": "4e27b776"
      },
      "source": [
        "![5.jpg](attachment:5.jpg)"
      ]
    },
    {
      "cell_type": "markdown",
      "id": "a5cd0fea",
      "metadata": {
        "id": "a5cd0fea"
      },
      "source": [
        "![6.jpg](attachment:6.jpg)"
      ]
    },
    {
      "cell_type": "markdown",
      "id": "116811ff",
      "metadata": {
        "id": "116811ff"
      },
      "source": [
        "![7.jpg](attachment:7.jpg)"
      ]
    },
    {
      "cell_type": "markdown",
      "id": "ea4a5c4e",
      "metadata": {
        "id": "ea4a5c4e"
      },
      "source": [
        "![8.jpg](attachment:8.jpg)"
      ]
    },
    {
      "cell_type": "markdown",
      "id": "e99799f8",
      "metadata": {
        "id": "e99799f8"
      },
      "source": [
        "![9.jpg](attachment:9.jpg)"
      ]
    },
    {
      "cell_type": "markdown",
      "id": "c4d73648",
      "metadata": {
        "id": "c4d73648"
      },
      "source": [
        "![10.jpg](attachment:10.jpg)"
      ]
    },
    {
      "cell_type": "markdown",
      "id": "d283b64a",
      "metadata": {
        "id": "d283b64a"
      },
      "source": [
        "![11.jpg](attachment:11.jpg)"
      ]
    },
    {
      "cell_type": "markdown",
      "id": "5549ec04",
      "metadata": {
        "id": "5549ec04"
      },
      "source": [
        "![12.jpg](attachment:12.jpg)"
      ]
    },
    {
      "cell_type": "markdown",
      "id": "fd13da36",
      "metadata": {
        "id": "fd13da36"
      },
      "source": [
        "![13.jpg](attachment:13.jpg)"
      ]
    },
    {
      "cell_type": "markdown",
      "id": "beb8d3a0",
      "metadata": {
        "id": "beb8d3a0"
      },
      "source": [
        "![PXL_20221108_063854709.jpg](attachment:PXL_20221108_063854709.jpg)"
      ]
    },
    {
      "cell_type": "markdown",
      "id": "8fb301a5",
      "metadata": {
        "id": "8fb301a5"
      },
      "source": [
        "![PXL_20221108_063941379.jpg](attachment:PXL_20221108_063941379.jpg)"
      ]
    }
  ],
  "metadata": {
    "kernelspec": {
      "display_name": "Python 3 (ipykernel)",
      "language": "python",
      "name": "python3"
    },
    "language_info": {
      "codemirror_mode": {
        "name": "ipython",
        "version": 3
      },
      "file_extension": ".py",
      "mimetype": "text/x-python",
      "name": "python",
      "nbconvert_exporter": "python",
      "pygments_lexer": "ipython3",
      "version": "3.9.7"
    },
    "colab": {
      "provenance": [],
      "include_colab_link": true
    }
  },
  "nbformat": 4,
  "nbformat_minor": 5
}